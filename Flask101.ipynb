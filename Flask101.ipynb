{
  "nbformat": 4,
  "nbformat_minor": 0,
  "metadata": {
    "colab": {
      "name": "Flask101.ipynb",
      "provenance": [],
      "collapsed_sections": [],
      "authorship_tag": "ABX9TyNVwuhZrDwAfojeK0rwFK+2",
      "include_colab_link": true
    },
    "kernelspec": {
      "name": "python3",
      "display_name": "Python 3"
    },
    "language_info": {
      "name": "python"
    }
  },
  "cells": [
    {
      "cell_type": "markdown",
      "metadata": {
        "id": "view-in-github",
        "colab_type": "text"
      },
      "source": [
        "<a href=\"https://colab.research.google.com/github/lengocha89nt/APIwPython/blob/main/Flask101.ipynb\" target=\"_parent\"><img src=\"https://colab.research.google.com/assets/colab-badge.svg\" alt=\"Open In Colab\"/></a>"
      ]
    },
    {
      "cell_type": "code",
      "execution_count": null,
      "metadata": {
        "colab": {
          "base_uri": "https://localhost:8080/"
        },
        "id": "Gtg6ExPVae0a",
        "outputId": "b01c754e-1935-4acb-d19b-d30b1199234d"
      },
      "outputs": [
        {
          "output_type": "stream",
          "name": "stdout",
          "text": [
            "Requirement already satisfied: flask in /usr/local/lib/python3.7/dist-packages (1.1.4)\n",
            "Requirement already satisfied: Jinja2<3.0,>=2.10.1 in /usr/local/lib/python3.7/dist-packages (from flask) (2.11.3)\n",
            "Requirement already satisfied: itsdangerous<2.0,>=0.24 in /usr/local/lib/python3.7/dist-packages (from flask) (1.1.0)\n",
            "Requirement already satisfied: Werkzeug<2.0,>=0.15 in /usr/local/lib/python3.7/dist-packages (from flask) (1.0.1)\n",
            "Requirement already satisfied: click<8.0,>=5.1 in /usr/local/lib/python3.7/dist-packages (from flask) (7.1.2)\n",
            "Requirement already satisfied: MarkupSafe>=0.23 in /usr/local/lib/python3.7/dist-packages (from Jinja2<3.0,>=2.10.1->flask) (2.0.1)\n"
          ]
        }
      ],
      "source": [
        "pip install flask"
      ]
    },
    {
      "cell_type": "code",
      "source": [
        "from flask import Flask\n",
        "app = Flask (__name__)\n",
        "# POST - used to receive data\n",
        "# GET - used to send data back only (we are the server)\n",
        "# POST /store data: {name:}\n",
        "@app.route('/store', method=['POST']) #/ is homepage of the site\n",
        "def create_store():\n",
        "    pass\n",
        "# GET /store/<string:name>\n",
        "@app.route ('/store/<string:name>')\n",
        "def get_store(name):\n",
        "    pass\n",
        "# GET /store\n",
        "@app.route ('/store')\n",
        "def get_stores():\n",
        "    pass\n",
        "# POST /store/<string:name>/item {name: , price:}\n",
        "# GET /store/<string:name>/item\n",
        "app.run(port=5000)"
      ],
      "metadata": {
        "id": "tfIHoR_MalPU"
      },
      "execution_count": null,
      "outputs": []
    },
    {
      "cell_type": "code",
      "source": [
        ""
      ],
      "metadata": {
        "id": "uJKdWCDjboSN"
      },
      "execution_count": null,
      "outputs": []
    }
  ]
}