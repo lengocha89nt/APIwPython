{
  "nbformat": 4,
  "nbformat_minor": 0,
  "metadata": {
    "colab": {
      "name": "Ex1.ipynb",
      "provenance": [],
      "authorship_tag": "ABX9TyPPQi6PWWSLTa0sHlGeOrT3",
      "include_colab_link": true
    },
    "kernelspec": {
      "name": "python3",
      "display_name": "Python 3"
    },
    "language_info": {
      "name": "python"
    }
  },
  "cells": [
    {
      "cell_type": "markdown",
      "metadata": {
        "id": "view-in-github",
        "colab_type": "text"
      },
      "source": [
        "<a href=\"https://colab.research.google.com/github/lengocha89nt/APIwPython/blob/main/Ex1.ipynb\" target=\"_parent\"><img src=\"https://colab.research.google.com/assets/colab-badge.svg\" alt=\"Open In Colab\"/></a>"
      ]
    },
    {
      "cell_type": "code",
      "execution_count": null,
      "metadata": {
        "id": "5AAuiqF3f3Yu"
      },
      "outputs": [],
      "source": [
        "import pandas"
      ]
    },
    {
      "cell_type": "markdown",
      "source": [
        ""
      ],
      "metadata": {
        "id": "NnvZW1TUglnG"
      }
    },
    {
      "cell_type": "code",
      "source": [
        "a = 1\n",
        "b = 2\n",
        "print (a+b)"
      ],
      "metadata": {
        "colab": {
          "base_uri": "https://localhost:8080/"
        },
        "id": "4--3bAiygmS_",
        "outputId": "b70cb513-5b05-42ca-9563-8d1d3b0c117e"
      },
      "execution_count": null,
      "outputs": [
        {
          "output_type": "stream",
          "name": "stdout",
          "text": [
            "3\n"
          ]
        }
      ]
    },
    {
      "cell_type": "code",
      "source": [
        "name = 'Ha'\n",
        "greetings = f\"Hi, this is {name}\"\n",
        "print (greetings)"
      ],
      "metadata": {
        "colab": {
          "base_uri": "https://localhost:8080/"
        },
        "id": "WHnnW_JGgvRF",
        "outputId": "ab54cf17-71e5-4a07-de71-6069099408e1"
      },
      "execution_count": null,
      "outputs": [
        {
          "output_type": "stream",
          "name": "stdout",
          "text": [
            "Hi, this is Ha\n"
          ]
        }
      ]
    },
    {
      "cell_type": "code",
      "source": [
        "l =[\"Bob\", \"Rolf\", \"Anna\"]\n",
        "print (l)"
      ],
      "metadata": {
        "id": "HOI-5E6Kg7Un",
        "colab": {
          "base_uri": "https://localhost:8080/"
        },
        "outputId": "adb106f2-1ae7-43ee-bbb3-14030038ca81"
      },
      "execution_count": null,
      "outputs": [
        {
          "output_type": "stream",
          "name": "stdout",
          "text": [
            "['Bob', 'Rolf', 'Anna']\n"
          ]
        }
      ]
    },
    {
      "cell_type": "code",
      "source": [
        "friends = {\"Bob\", \"Rolf\", \"Anne\"}\n",
        "abroad = {\"Bob\", \"Anne\"}\n",
        "local_friends = friends.difference(abroad)\n",
        "print (local_friends)"
      ],
      "metadata": {
        "colab": {
          "base_uri": "https://localhost:8080/"
        },
        "id": "JiRMY5zaqh77",
        "outputId": "5a0b96cc-ae9b-4a93-c72c-98402e593214"
      },
      "execution_count": null,
      "outputs": [
        {
          "output_type": "stream",
          "name": "stdout",
          "text": [
            "{'Rolf'}\n"
          ]
        }
      ]
    },
    {
      "cell_type": "code",
      "source": [
        "both = friends.intersection(abroad)\n",
        "print (both)"
      ],
      "metadata": {
        "colab": {
          "base_uri": "https://localhost:8080/"
        },
        "id": "qL2JNMDtq-eZ",
        "outputId": "96c590fe-0a80-42ed-a2bf-d94719549b2d"
      },
      "execution_count": null,
      "outputs": [
        {
          "output_type": "stream",
          "name": "stdout",
          "text": [
            "{'Anne', 'Bob'}\n"
          ]
        }
      ]
    },
    {
      "cell_type": "code",
      "source": [
        "my_list = [20,30,50]\n",
        "my_tuple = 50,\n"
      ],
      "metadata": {
        "id": "zo8x15dFrUQY"
      },
      "execution_count": null,
      "outputs": []
    },
    {
      "cell_type": "code",
      "source": [
        "day_of_week = input (\"What day of the week is it today?\").lower()\n",
        "if day_of_week == \"monday\":\n",
        "  print (\"Have a great start to your week!\")\n",
        "else:\n",
        "  print (\"Have a good day whatever!\")"
      ],
      "metadata": {
        "colab": {
          "base_uri": "https://localhost:8080/"
        },
        "id": "z8tnanISr736",
        "outputId": "b87ce3d9-4e97-429f-ca1d-dcb57f2f3e6d"
      },
      "execution_count": null,
      "outputs": [
        {
          "output_type": "stream",
          "name": "stdout",
          "text": [
            "What day of the week is it today?Monday\n",
            "Have a great start to your week!\n"
          ]
        }
      ]
    },
    {
      "cell_type": "code",
      "source": [
        "print (\"Bob\" in friends)"
      ],
      "metadata": {
        "colab": {
          "base_uri": "https://localhost:8080/"
        },
        "id": "jumnatG4s6Xq",
        "outputId": "29a0dc22-8b5f-4556-ecba-46e6092ad75a"
      },
      "execution_count": null,
      "outputs": [
        {
          "output_type": "stream",
          "name": "stdout",
          "text": [
            "True\n"
          ]
        }
      ]
    },
    {
      "cell_type": "code",
      "source": [
        "number = 7\n",
        "user_input = input (\"Enter 'y' if you would like to play: \").lower()\n",
        "if user_input in (\"y\",\"Y\") :\n",
        "    user_number = int(input(\"Guess our number: \"))\n",
        "    if user_number == number:\n",
        "        print (\"You guess correctly!\")\n",
        "    elif abs(number - user_number) == 1:\n",
        "        print (\"You were off by one\")\n",
        "    else:\n",
        "        print (\"Sorry, it's wrong!\")"
      ],
      "metadata": {
        "id": "2BH3wPoPtYjV",
        "colab": {
          "base_uri": "https://localhost:8080/"
        },
        "outputId": "4e51baff-add0-47f2-cc50-91abcbb26d45"
      },
      "execution_count": null,
      "outputs": [
        {
          "output_type": "stream",
          "name": "stdout",
          "text": [
            "Enter 'y' if you would like to play: Y\n",
            "Guess our number: 6\n",
            "You were off by one\n"
          ]
        }
      ]
    },
    {
      "cell_type": "code",
      "source": [
        ""
      ],
      "metadata": {
        "id": "ARetF9ArZWBq"
      },
      "execution_count": null,
      "outputs": []
    }
  ]
}